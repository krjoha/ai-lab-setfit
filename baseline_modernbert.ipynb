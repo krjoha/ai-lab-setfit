{
 "cells": [
  {
   "cell_type": "markdown",
   "id": "467b736b",
   "metadata": {},
   "source": [
    "# Baseline ModernBERT"
   ]
  },
  {
   "cell_type": "code",
   "execution_count": 1,
   "id": "4f06cdaa",
   "metadata": {},
   "outputs": [
    {
     "name": "stderr",
     "output_type": "stream",
     "text": [
      "/home/krjoha/repos/ai-lab-setfit/.venv/lib/python3.11/site-packages/tqdm/auto.py:21: TqdmWarning: IProgress not found. Please update jupyter and ipywidgets. See https://ipywidgets.readthedocs.io/en/stable/user_install.html\n",
      "  from .autonotebook import tqdm as notebook_tqdm\n"
     ]
    }
   ],
   "source": [
    "from datetime import datetime\n",
    "from datasets import load_dataset\n",
    "from evaluate import load\n",
    "from transformers import (\n",
    "    AutoTokenizer,\n",
    "    AutoModelForSequenceClassification,\n",
    "    TrainingArguments,\n",
    "    Trainer,\n",
    "    DataCollatorWithPadding,\n",
    "    EarlyStoppingCallback,\n",
    ")\n",
    "import numpy as np\n",
    "from evaluate import load"
   ]
  },
  {
   "cell_type": "code",
   "execution_count": 2,
   "id": "95a70410",
   "metadata": {},
   "outputs": [
    {
     "data": {
      "text/plain": [
       "\"Train: Dataset({\\n    features: ['id', 'label', 'text', 'label_text'],\\n    num_rows: 11514\\n})\""
      ]
     },
     "metadata": {},
     "output_type": "display_data"
    },
    {
     "data": {
      "text/plain": [
       "\"Val:   Dataset({\\n    features: ['id', 'label', 'text', 'label_text'],\\n    num_rows: 2033\\n})\""
      ]
     },
     "metadata": {},
     "output_type": "display_data"
    },
    {
     "data": {
      "text/plain": [
       "\"Test:  Dataset({\\n    features: ['id', 'label', 'text', 'label_text'],\\n    num_rows: 2974\\n})\""
      ]
     },
     "metadata": {},
     "output_type": "display_data"
    }
   ],
   "source": [
    "# Load data\n",
    "train_dataset = load_dataset(\"SetFit/amazon_massive_intent_sv-SE\", split=\"train\")\n",
    "val_dataset = load_dataset(\"SetFit/amazon_massive_intent_sv-SE\", split=\"validation\")\n",
    "test_dataset = load_dataset(\"SetFit/amazon_massive_intent_sv-SE\", split=\"test\")\n",
    "\n",
    "unique_pairs = set(zip(train_dataset[\"label_text\"], train_dataset[\"label\"]))\n",
    "label2id = {text: label_id for text, label_id in unique_pairs}\n",
    "id2label = {label_id: text for text, label_id in unique_pairs}\n",
    "\n",
    "display(\"Train: \" + str(train_dataset))\n",
    "display(\"Val:   \" + str(val_dataset))\n",
    "display(\"Test:  \" + str(test_dataset))"
   ]
  },
  {
   "cell_type": "code",
   "execution_count": 3,
   "id": "e4cca408",
   "metadata": {},
   "outputs": [],
   "source": [
    "# Load tokenizer\n",
    "tokenizer = AutoTokenizer.from_pretrained(\"answerdotai/ModernBERT-base\")\n",
    "\n",
    "\n",
    "# Tokenize function\n",
    "def tokenize_function(examples):\n",
    "    return tokenizer(examples[\"text\"], truncation=True)\n",
    "\n",
    "\n",
    "# Tokenize datasets\n",
    "tokenized_datasets_train = train_dataset.map(tokenize_function, batched=True)\n",
    "tokenized_datasets_val = val_dataset.map(tokenize_function, batched=True)\n",
    "tokenized_datasets_test = test_dataset.map(tokenize_function, batched=True)\n",
    "\n",
    "\n",
    "# Load metrics\n",
    "accuracy = load(\"accuracy\")\n",
    "f1 = load(\"f1\")\n",
    "\n",
    "\n",
    "def compute_metrics(eval_pred):\n",
    "    logits, labels = eval_pred\n",
    "    predictions = np.argmax(logits, axis=-1)\n",
    "\n",
    "    accuracy_score = accuracy.compute(predictions=predictions, references=labels)\n",
    "    f1_score = f1.compute(\n",
    "        predictions=predictions, references=labels, average=\"weighted\"\n",
    "    )\n",
    "\n",
    "    return {\n",
    "        \"accuracy\": accuracy_score[\"accuracy\"],\n",
    "        \"f1\": f1_score[\"f1\"],\n",
    "    }"
   ]
  },
  {
   "cell_type": "code",
   "execution_count": null,
   "id": "33a81a25",
   "metadata": {},
   "outputs": [
    {
     "name": "stderr",
     "output_type": "stream",
     "text": [
      "Some weights of ModernBertForSequenceClassification were not initialized from the model checkpoint at answerdotai/ModernBERT-base and are newly initialized: ['classifier.bias', 'classifier.weight']\n",
      "You should probably TRAIN this model on a down-stream task to be able to use it for predictions and inference.\n",
      "/tmp/ipykernel_38455/231649281.py:52: FutureWarning: `tokenizer` is deprecated and will be removed in version 5.0.0 for `Trainer.__init__`. Use `processing_class` instead.\n",
      "  trainer = Trainer(\n"
     ]
    }
   ],
   "source": [
    "# Load model with increased dropout\n",
    "model = AutoModelForSequenceClassification.from_pretrained(\n",
    "    \"answerdotai/ModernBERT-base\",\n",
    "    label2id=label2id,\n",
    "    id2label=id2label,\n",
    "    attn_implementation=\"sdpa\",\n",
    ")\n",
    "\n",
    "learning_rate = 3e-5\n",
    "batch_size = 32\n",
    "epochs = 1\n",
    "model_name = \"ModernBERT\"\n",
    "\n",
    "timestamp = datetime.now().strftime(\"%y%m%d_%H%M\")\n",
    "run_name = f\"{timestamp}_{model_name}_ep{epochs}_lr{learning_rate}_bs{batch_size}\"\n",
    "\n",
    "training_args = TrainingArguments(\n",
    "    output_dir=f\"./results/{run_name}\",\n",
    "    logging_dir=f\"./results/{run_name}/logs\",\n",
    "    report_to=[\"tensorboard\"],\n",
    "    run_name=run_name,\n",
    "\n",
    "    learning_rate=learning_rate,\n",
    "    per_device_train_batch_size=batch_size,\n",
    "    per_device_eval_batch_size=64,\n",
    "    num_train_epochs=epochs,\n",
    "    bf16=True,\n",
    "    \n",
    "    logging_strategy=\"steps\",\n",
    "    eval_strategy=\"steps\",\n",
    "    save_strategy=\"steps\",\n",
    "\n",
    "    logging_steps=100,\n",
    "    eval_steps=200,\n",
    "    save_steps=200,\n",
    "\n",
    "    seed=42,\n",
    "    torch_compile=True,\n",
    "    load_best_model_at_end=True,\n",
    "    metric_for_best_model=\"f1\",\n",
    "    save_total_limit=2,\n",
    "    lr_scheduler_type=\"cosine\",\n",
    "    warmup_ratio=0.1,\n",
    "    weight_decay=0.01,\n",
    "    max_grad_norm=1.0,\n",
    "    label_smoothing_factor=0.1,\n",
    ")\n",
    "\n",
    "# Create data collator\n",
    "data_collator = DataCollatorWithPadding(tokenizer=tokenizer)\n",
    "\n",
    "# Initialize Trainer with early stopping\n",
    "trainer = Trainer(\n",
    "    model=model,\n",
    "    args=training_args,\n",
    "    train_dataset=tokenized_datasets_train,\n",
    "    eval_dataset=tokenized_datasets_val,\n",
    "    tokenizer=tokenizer,\n",
    "    data_collator=data_collator,\n",
    "    compute_metrics=compute_metrics,\n",
    "    callbacks=[\n",
    "        EarlyStoppingCallback(early_stopping_patience=5, early_stopping_threshold=0.001)\n",
    "    ],\n",
    ")"
   ]
  },
  {
   "cell_type": "code",
   "execution_count": 5,
   "id": "b6579bb8",
   "metadata": {},
   "outputs": [
    {
     "name": "stderr",
     "output_type": "stream",
     "text": [
      "The tokenizer has new PAD/BOS/EOS tokens that differ from the model config and generation config. The model config and generation config were aligned accordingly, being updated with the tokenizer's values. Updated tokens: {'eos_token_id': None, 'bos_token_id': None}.\n"
     ]
    },
    {
     "data": {
      "text/html": [
       "\n",
       "    <div>\n",
       "      \n",
       "      <progress value='360' max='360' style='width:300px; height:20px; vertical-align: middle;'></progress>\n",
       "      [360/360 00:29, Epoch 1/1]\n",
       "    </div>\n",
       "    <table border=\"1\" class=\"dataframe\">\n",
       "  <thead>\n",
       " <tr style=\"text-align: left;\">\n",
       "      <th>Step</th>\n",
       "      <th>Training Loss</th>\n",
       "      <th>Validation Loss</th>\n",
       "      <th>Accuracy</th>\n",
       "      <th>F1</th>\n",
       "    </tr>\n",
       "  </thead>\n",
       "  <tbody>\n",
       "    <tr>\n",
       "      <td>200</td>\n",
       "      <td>2.801300</td>\n",
       "      <td>2.485767</td>\n",
       "      <td>0.470733</td>\n",
       "      <td>0.461498</td>\n",
       "    </tr>\n",
       "  </tbody>\n",
       "</table><p>"
      ],
      "text/plain": [
       "<IPython.core.display.HTML object>"
      ]
     },
     "metadata": {},
     "output_type": "display_data"
    },
    {
     "name": "stderr",
     "output_type": "stream",
     "text": [
      "W0906 10:36:09.446000 38455 torch/fx/experimental/symbolic_shapes.py:6823] [0/1] _maybe_guard_rel() was called on non-relation expression Eq(s16, 1) | Eq(s27, s16)\n",
      "W0906 10:36:34.188000 38455 torch/fx/experimental/symbolic_shapes.py:6823] [0/2] _maybe_guard_rel() was called on non-relation expression Eq(s52, s92) | Eq(s92, 1)\n",
      "W0906 10:36:34.190000 38455 torch/fx/experimental/symbolic_shapes.py:6823] [0/2] _maybe_guard_rel() was called on non-relation expression Eq(s16, 1) | Eq(s27, s16)\n"
     ]
    },
    {
     "data": {
      "text/plain": [
       "TrainOutput(global_step=360, training_loss=2.832405302259657, metrics={'train_runtime': 32.0419, 'train_samples_per_second': 359.342, 'train_steps_per_second': 11.235, 'total_flos': 232101463608000.0, 'train_loss': 2.832405302259657, 'epoch': 1.0})"
      ]
     },
     "execution_count": 5,
     "metadata": {},
     "output_type": "execute_result"
    }
   ],
   "source": [
    "# Train the model\n",
    "trainer.train()"
   ]
  },
  {
   "cell_type": "code",
   "execution_count": 6,
   "id": "d5dada62",
   "metadata": {},
   "outputs": [
    {
     "data": {
      "text/html": [
       "\n",
       "    <div>\n",
       "      \n",
       "      <progress value='47' max='47' style='width:300px; height:20px; vertical-align: middle;'></progress>\n",
       "      [47/47 00:01]\n",
       "    </div>\n",
       "    "
      ],
      "text/plain": [
       "<IPython.core.display.HTML object>"
      ]
     },
     "metadata": {},
     "output_type": "display_data"
    },
    {
     "name": "stdout",
     "output_type": "stream",
     "text": [
      "{\n",
      "    \"eval_loss\": 2.459702730178833,\n",
      "    \"eval_accuracy\": 0.4761264290517821,\n",
      "    \"eval_f1\": 0.4625420107402667,\n",
      "    \"eval_runtime\": 1.1251,\n",
      "    \"eval_samples_per_second\": 2643.277,\n",
      "    \"eval_steps_per_second\": 41.773,\n",
      "    \"epoch\": 1.0\n",
      "}\n"
     ]
    }
   ],
   "source": [
    "import json\n",
    "\n",
    "# Evaluate the model with the test data\n",
    "eval_results = trainer.evaluate(eval_dataset=tokenized_datasets_test)\n",
    "print(json.dumps(eval_results,indent=4))"
   ]
  }
 ],
 "metadata": {
  "kernelspec": {
   "display_name": "ai-lab-setfit",
   "language": "python",
   "name": "python3"
  },
  "language_info": {
   "codemirror_mode": {
    "name": "ipython",
    "version": 3
   },
   "file_extension": ".py",
   "mimetype": "text/x-python",
   "name": "python",
   "nbconvert_exporter": "python",
   "pygments_lexer": "ipython3",
   "version": "3.11.11"
  }
 },
 "nbformat": 4,
 "nbformat_minor": 5
}
